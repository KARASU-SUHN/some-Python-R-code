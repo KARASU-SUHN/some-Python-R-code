{
 "cells": [
  {
   "cell_type": "code",
   "execution_count": 129,
   "metadata": {
    "scrolled": true
   },
   "outputs": [
    {
     "name": "stdout",
     "output_type": "stream",
     "text": [
      "                                        0\n",
      "0                ,id,user_id,birthday,sex\n",
      "1       659404,814428,609644,2017-11-01,2\n",
      "2     1803815,2082902,306058,2018-02-01,1\n",
      "3      712207,871971,1363608,2013-04-01,1\n",
      "4      666254,821895,1259008,2018-11-01,1\n",
      "..                                    ...\n",
      "96   1521829,1771348,2608557,2021-01-01,0\n",
      "97    955177,1142836,1821999,2019-06-01,2\n",
      "98   1704055,1974540,2833738,2020-11-01,1\n",
      "99      189427,280720,281491,2016-09-01,0\n",
      "100  1832293,2113635,2987768,2020-12-01,1\n",
      "\n",
      "[101 rows x 1 columns]\n"
     ]
    }
   ],
   "source": [
    "#import csv\n",
    "#f = open(\"/Users/karasu/Downloads/提供データ/csv/children.csv\", 'r')\n",
    "#tsv = csv.reader(f, delimiter = '\\t')\n",
    "#for row in tsv:\n",
    "#    print(row)\n",
    "#f.close()\n",
    "import pandas as pd\n",
    "import numpy as np\n",
    "children=pd.read_csv('/Users/karasu/Downloads/提供データ/csv/children.csv',header=None,sep=' ') #provided by KIKUCHI(100)\n",
    "print(children)\n",
    "#children.describe()"
   ]
  },
  {
   "cell_type": "code",
   "execution_count": 2,
   "metadata": {},
   "outputs": [],
   "source": [
    "import time,datetime\n",
    "#leadtime1 =(pd.to_datetime(children['birthday'])).dt.days\n",
    "#leadtime1 = pd.to_timedelta(pd.to_datetime(data['B'])-pd.to_datetime(data['A'])).dt.days\n",
    "#print(pd.to_datetime(data['B'])-pd.to_datetime(data['A']))\n",
    "#print(leadtime1)"
   ]
  },
  {
   "cell_type": "code",
   "execution_count": 4,
   "metadata": {},
   "outputs": [],
   "source": [
    "#import csv\n",
    "#f = open(\"/Users/karasu/Downloads/提供データ/users.tsv\", 'r')\n",
    "#tsv = csv.reader(f, delimiter = '\\t')\n",
    "#for row in tsv:\n",
    "#    print(row)"
   ]
  },
  {
   "cell_type": "markdown",
   "metadata": {},
   "source": [
    "### id:ユーザーID   generation_id:世代ID    prefecture_id:都道府県ID     created:アプリ登録日時"
   ]
  },
  {
   "cell_type": "code",
   "execution_count": 7,
   "metadata": {},
   "outputs": [
    {
     "name": "stdout",
     "output_type": "stream",
     "text": [
      "   id  generation_id  prefecture_id              created\n",
      "0   1            NaN            NaN  2014-04-25 11:46:58\n",
      "1   2            NaN            NaN  2014-04-25 11:47:29\n",
      "2   3            NaN            NaN  2014-04-25 12:02:02\n",
      "3   4            NaN            NaN  2014-04-25 12:25:05\n",
      "4   5            NaN            NaN  2014-04-25 18:32:30\n"
     ]
    }
   ],
   "source": [
    "import csv\n",
    "tsv_file='/Users/karasu/Downloads/提供データ/users.tsv'\n",
    "csv_table=pd.read_table(tsv_file,sep='\\t')\n",
    "csv_table.to_csv('users.csv',index=False)\n",
    "users = pd.read_csv('users.csv')\n",
    "print(users.head())"
   ]
  },
  {
   "cell_type": "code",
   "execution_count": 41,
   "metadata": {
    "scrolled": false
   },
   "outputs": [
    {
     "name": "stdout",
     "output_type": "stream",
     "text": [
      "(2935754, 4)\n",
      "<bound method NDFrame.describe of               id  generation_id  prefecture_id             created\n",
      "0              1            NaN            NaN 2014-04-25 11:46:58\n",
      "1              2            NaN            NaN 2014-04-25 11:47:29\n",
      "2              3            NaN            NaN 2014-04-25 12:02:02\n",
      "3              4            NaN            NaN 2014-04-25 12:25:05\n",
      "4              5            NaN            NaN 2014-04-25 18:32:30\n",
      "...          ...            ...            ...                 ...\n",
      "2935749  3037785            4.0           28.0 2021-07-31 23:51:59\n",
      "2935750  3037787            NaN            NaN 2021-07-31 23:55:09\n",
      "2935751  3037788            NaN            NaN 2021-07-31 23:56:44\n",
      "2935752  3037789            NaN            NaN 2021-07-31 23:56:57\n",
      "2935753  3037790            NaN            NaN 2021-07-31 23:57:19\n",
      "\n",
      "[2935754 rows x 4 columns]>\n",
      "(2935754,)\n"
     ]
    }
   ],
   "source": [
    "print(users.shape)\n",
    "print(users.describe)\n",
    "generation = users[\"generation_id\"]\n",
    "print(generation.shape)                             #All information of the output"
   ]
  },
  {
   "cell_type": "code",
   "execution_count": 11,
   "metadata": {},
   "outputs": [
    {
     "data": {
      "text/plain": [
       "2526262"
      ]
     },
     "execution_count": 11,
     "metadata": {},
     "output_type": "execute_result"
    }
   ],
   "source": [
    "users[\"generation_id\"].isnull().sum()"
   ]
  },
  {
   "cell_type": "code",
   "execution_count": 12,
   "metadata": {},
   "outputs": [
    {
     "data": {
      "text/plain": [
       "0.8605155609087137"
      ]
     },
     "execution_count": 12,
     "metadata": {},
     "output_type": "execute_result"
    }
   ],
   "source": [
    "2526262/2935754"
   ]
  },
  {
   "cell_type": "code",
   "execution_count": 13,
   "metadata": {},
   "outputs": [
    {
     "data": {
      "text/plain": [
       "1963598"
      ]
     },
     "execution_count": 13,
     "metadata": {},
     "output_type": "execute_result"
    }
   ],
   "source": [
    "users[\"prefecture_id\"].isnull().sum()"
   ]
  },
  {
   "cell_type": "code",
   "execution_count": 14,
   "metadata": {
    "scrolled": false
   },
   "outputs": [
    {
     "data": {
      "text/plain": [
       "0.6688564505064116"
      ]
     },
     "execution_count": 14,
     "metadata": {},
     "output_type": "execute_result"
    }
   ],
   "source": [
    "1963598/2935754"
   ]
  },
  {
   "cell_type": "markdown",
   "metadata": {},
   "source": [
    "#### generation_id missing rate= 86%.   prefecture_id missing rate=67%"
   ]
  },
  {
   "cell_type": "code",
   "execution_count": 15,
   "metadata": {
    "scrolled": true
   },
   "outputs": [
    {
     "name": "stdout",
     "output_type": "stream",
     "text": [
      "2021-11-03 20:34:57.897906\n"
     ]
    }
   ],
   "source": [
    "from datetime import datetime\n",
    "now=datetime.now()\n",
    "print(now)"
   ]
  },
  {
   "cell_type": "code",
   "execution_count": 42,
   "metadata": {
    "scrolled": true
   },
   "outputs": [
    {
     "name": "stdout",
     "output_type": "stream",
     "text": [
      "   id  user_id    birthday  sex\n",
      "0   3       12  2014-06-01    1\n",
      "1   4       12  2013-09-01    2\n",
      "2   5     1518  2014-06-01    2\n",
      "3  10      522  2013-07-01    1\n",
      "4  12      332  2013-07-01    1\n"
     ]
    }
   ],
   "source": [
    "tsv_file='/Users/karasu/Downloads/提供データ/children.tsv'\n",
    "csv_table=pd.read_table(tsv_file,sep='\\t')\n",
    "csv_table.to_csv('children.csv',index=False)\n",
    "children= pd.read_csv('children.csv')\n",
    "print(children.head())"
   ]
  },
  {
   "cell_type": "markdown",
   "metadata": {},
   "source": [
    "### id:子供ID    user_id:紐づくユーザーID    birthday:子供の誕生日    sex:子供の性別"
   ]
  },
  {
   "cell_type": "code",
   "execution_count": 125,
   "metadata": {
    "scrolled": false
   },
   "outputs": [
    {
     "name": "stdout",
     "output_type": "stream",
     "text": [
      "1    713041\n",
      "2    679819\n",
      "0    487602\n",
      "Name: sex, dtype: int64\n"
     ]
    }
   ],
   "source": [
    "sex=children['sex']\n",
    "frequency_sex=pd.value_counts(sex)\n",
    "print(frequency_sex)"
   ]
  },
  {
   "cell_type": "markdown",
   "metadata": {},
   "source": [
    "## 0-unknown 1-male 2-female （male>female）¶"
   ]
  },
  {
   "cell_type": "code",
   "execution_count": 4,
   "metadata": {
    "scrolled": true
   },
   "outputs": [
    {
     "data": {
      "text/plain": [
       "1.3942088014405192"
      ]
     },
     "execution_count": 4,
     "metadata": {},
     "output_type": "execute_result"
    }
   ],
   "source": [
    "679819/487602"
   ]
  },
  {
   "cell_type": "code",
   "execution_count": 1,
   "metadata": {
    "scrolled": false
   },
   "outputs": [
    {
     "data": {
      "text/plain": [
       "1.0508241758241759"
      ]
     },
     "execution_count": 1,
     "metadata": {},
     "output_type": "execute_result"
    }
   ],
   "source": [
    "765/728"
   ]
  },
  {
   "cell_type": "markdown",
   "metadata": {},
   "source": [
    "male/female=765/728w=1.0508241758241759 (2021.4.1)\n",
    "#### from 総務省統計局https://www.stat.go.jp/data/jinsui/index.html"
   ]
  },
  {
   "cell_type": "code",
   "execution_count": 2,
   "metadata": {
    "scrolled": true
   },
   "outputs": [
    {
     "data": {
      "text/plain": [
       "1.048780487804878"
      ]
     },
     "execution_count": 2,
     "metadata": {},
     "output_type": "execute_result"
    }
   ],
   "source": [
    "774/738"
   ]
  },
  {
   "cell_type": "markdown",
   "metadata": {},
   "source": [
    "male/female=774/738=1.048780487804878 (2020.4.1)"
   ]
  },
  {
   "cell_type": "code",
   "execution_count": 3,
   "metadata": {
    "scrolled": true
   },
   "outputs": [
    {
     "data": {
      "text/plain": [
       "1.0508701472556894"
      ]
     },
     "execution_count": 3,
     "metadata": {},
     "output_type": "execute_result"
    }
   ],
   "source": [
    "785/747"
   ]
  },
  {
   "cell_type": "markdown",
   "metadata": {},
   "source": [
    "male/female=785/747=1.0508701472556894 (2019.4.1)"
   ]
  },
  {
   "cell_type": "code",
   "execution_count": 127,
   "metadata": {},
   "outputs": [
    {
     "data": {
      "image/png": "[encoded data removed]",
      "text/plain": [
       "<Figure size 432x288 with 1 Axes>"
      ]
     },
     "metadata": {
      "needs_background": "light"
     },
     "output_type": "display_data"
    }
   ],
   "source": [
    "sex.plot.hist(grid=False, bins=10,density=False, rwidth=0.9,\n",
    "                   color='#607c8e')\n",
    "#plt.title('sex') or check density=True\n",
    "plt.xlabel('sex of children')\n",
    "plt.ylabel('Counts')\n",
    "plt.grid(axis='y', alpha=1)"
   ]
  },
  {
   "cell_type": "code",
   "execution_count": 18,
   "metadata": {
    "scrolled": true
   },
   "outputs": [
    {
     "name": "stdout",
     "output_type": "stream",
     "text": [
      "0    2014-06-01\n",
      "1    2013-09-01\n",
      "2    2014-06-01\n",
      "3    2013-07-01\n",
      "4    2013-07-01\n",
      "Name: birthday, dtype: object\n"
     ]
    }
   ],
   "source": [
    "birthday = children[\"birthday\"]\n",
    "print(birthday.head())\n",
    "#birthdayに関しては、日にち部分を全て「1日」に前処理しています。"
   ]
  },
  {
   "cell_type": "code",
   "execution_count": 19,
   "metadata": {},
   "outputs": [
    {
     "data": {
      "text/plain": [
       "('1614-03-01', '2026-05-01')"
      ]
     },
     "execution_count": 19,
     "metadata": {},
     "output_type": "execute_result"
    }
   ],
   "source": [
    "birthday.min(), birthday.max() #check the data of time()"
   ]
  },
  {
   "cell_type": "code",
   "execution_count": 162,
   "metadata": {},
   "outputs": [],
   "source": [
    "#age=pd.to_datetime(age,format='%Y/%m/%d',errors = 'coerce')\n",
    "#print(age.head())"
   ]
  },
  {
   "cell_type": "code",
   "execution_count": 22,
   "metadata": {},
   "outputs": [
    {
     "data": {
      "text/plain": [
       "0         2014-06-01\n",
       "1         2013-09-01\n",
       "2         2014-06-01\n",
       "3         2013-07-01\n",
       "4         2013-07-01\n",
       "             ...    \n",
       "1880457   2020-04-01\n",
       "1880458   2021-11-01\n",
       "1880459   2022-05-01\n",
       "1880460   2022-06-01\n",
       "1880461   2021-07-01\n",
       "Name: age, Length: 1880462, dtype: datetime64[ns]"
      ]
     },
     "execution_count": 22,
     "metadata": {},
     "output_type": "execute_result"
    }
   ],
   "source": [
    "df = pd.DataFrame(children)\n",
    "df['age'] = pd.to_datetime(df.birthday,errors = 'coerce') ##do not add errors='coerce',there will be an error\n",
    "df['age'] ##Out of bounds nanosecond timestamp: 1614-03-01 00:00:00"
   ]
  },
  {
   "cell_type": "code",
   "execution_count": 23,
   "metadata": {},
   "outputs": [],
   "source": [
    "import datetime\n",
    "def from_dob_to_age(born):\n",
    "    today = datetime.date.today()\n",
    "    return today.year - born.year - ((today.month, today.day) < (born.month, born.day))\n",
    "#define a function to get the age from a date of birth (DOB)."
   ]
  },
  {
   "cell_type": "code",
   "execution_count": 24,
   "metadata": {},
   "outputs": [
    {
     "name": "stdout",
     "output_type": "stream",
     "text": [
      "0    7.0\n",
      "1    8.0\n",
      "2    7.0\n",
      "3    8.0\n",
      "4    8.0\n",
      "Name: age, dtype: float64\n"
     ]
    }
   ],
   "source": [
    "age=df['age'].apply(lambda x: from_dob_to_age(x)) #apply the function to calculate the age of children\n",
    "print(age.head())"
   ]
  },
  {
   "cell_type": "code",
   "execution_count": 45,
   "metadata": {},
   "outputs": [],
   "source": [
    "children['age'] = age #insert new column age"
   ]
  },
  {
   "cell_type": "code",
   "execution_count": 26,
   "metadata": {},
   "outputs": [
    {
     "name": "stdout",
     "output_type": "stream",
     "text": [
      "   id  user_id    birthday  sex  age\n",
      "0   3       12  2014-06-01    1  7.0\n",
      "1   4       12  2013-09-01    2  8.0\n",
      "2   5     1518  2014-06-01    2  7.0\n",
      "3  10      522  2013-07-01    1  8.0\n",
      "4  12      332  2013-07-01    1  8.0\n"
     ]
    }
   ],
   "source": [
    "print(children.head())"
   ]
  },
  {
   "cell_type": "code",
   "execution_count": 27,
   "metadata": {
    "scrolled": true
   },
   "outputs": [
    {
     "data": {
      "text/plain": [
       "(-5.0, 329.0)"
      ]
     },
     "execution_count": 27,
     "metadata": {},
     "output_type": "execute_result"
    }
   ],
   "source": [
    "age.min(), age.max() "
   ]
  },
  {
   "cell_type": "code",
   "execution_count": 28,
   "metadata": {},
   "outputs": [
    {
     "name": "stdout",
     "output_type": "stream",
     "text": [
      "(1880462,)\n"
     ]
    }
   ],
   "source": [
    "print(age.shape)"
   ]
  },
  {
   "cell_type": "code",
   "execution_count": 29,
   "metadata": {},
   "outputs": [
    {
     "name": "stdout",
     "output_type": "stream",
     "text": [
      "count    1.880460e+06\n",
      "mean     3.402670e+00\n",
      "std      3.034841e+00\n",
      "min     -5.000000e+00\n",
      "25%      2.000000e+00\n",
      "50%      3.000000e+00\n",
      "75%      5.000000e+00\n",
      "max      3.290000e+02\n",
      "Name: age, dtype: float64\n"
     ]
    }
   ],
   "source": [
    "print(age.describe())"
   ]
  },
  {
   "cell_type": "code",
   "execution_count": 31,
   "metadata": {},
   "outputs": [],
   "source": [
    "unborn=children[(children['age'] < 0.0)] #unborn child"
   ]
  },
  {
   "cell_type": "markdown",
   "metadata": {},
   "source": [
    "###  26745/1880462    #Ratio of unborn children=0.014222568709178915"
   ]
  },
  {
   "cell_type": "code",
   "execution_count": 32,
   "metadata": {},
   "outputs": [],
   "source": [
    "ageover10=children[(children['age'] > 10.0)] #Children over 10 years old"
   ]
  },
  {
   "cell_type": "markdown",
   "metadata": {},
   "source": [
    "### 56839/1880462  Ratio of children over 10 years of age=0.03022608273924174"
   ]
  },
  {
   "cell_type": "code",
   "execution_count": 35,
   "metadata": {},
   "outputs": [
    {
     "name": "stdout",
     "output_type": "stream",
     "text": [
      "   id  generation_id  prefecture_id              created\n",
      "0   1            NaN            NaN  2014-04-25 11:46:58\n",
      "1   2            NaN            NaN  2014-04-25 11:47:29\n",
      "2   3            NaN            NaN  2014-04-25 12:02:02\n",
      "3   4            NaN            NaN  2014-04-25 12:25:05\n",
      "4   5            NaN            NaN  2014-04-25 18:32:30\n"
     ]
    }
   ],
   "source": [
    "tsv_file='/Users/karasu/Downloads/提供データ/users.tsv'\n",
    "csv_table=pd.read_table(tsv_file,sep='\\t')\n",
    "csv_table.to_csv('users.csv',index=False)\n",
    "users= pd.read_csv('users.csv')\n",
    "print(users.head(5))"
   ]
  },
  {
   "cell_type": "code",
   "execution_count": 34,
   "metadata": {},
   "outputs": [
    {
     "name": "stdout",
     "output_type": "stream",
     "text": [
      "                 id  generation_id  prefecture_id\n",
      "count  2.935754e+06  409492.000000  972156.000000\n",
      "mean   1.516592e+06       3.777664      20.834732\n",
      "std    8.774991e+05       1.166101      12.200719\n",
      "min    1.000000e+00       1.000000       1.000000\n",
      "25%    7.569172e+05       3.000000      12.000000\n",
      "50%    1.514598e+06       4.000000      20.000000\n",
      "75%    2.274695e+06       5.000000      28.000000\n",
      "max    3.037790e+06       7.000000      47.000000\n"
     ]
    }
   ],
   "source": [
    "print(users.describe())"
   ]
  },
  {
   "cell_type": "code",
   "execution_count": 36,
   "metadata": {},
   "outputs": [
    {
     "name": "stdout",
     "output_type": "stream",
     "text": [
      "0    2014-04-25 11:46:58\n",
      "1    2014-04-25 11:47:29\n",
      "2    2014-04-25 12:02:02\n",
      "3    2014-04-25 12:25:05\n",
      "4    2014-04-25 18:32:30\n",
      "Name: created, dtype: object\n"
     ]
    }
   ],
   "source": [
    "created = users[\"created\"]\n",
    "print(created.head())\n",
    "\n",
    "dd = pd.DataFrame(users)\n",
    "dd['created'] = pd.to_datetime(dd.created,errors = 'coerce') ##do not add errors='coerce',there will be an error\n",
    "#dd['created']"
   ]
  },
  {
   "cell_type": "code",
   "execution_count": 43,
   "metadata": {},
   "outputs": [
    {
     "name": "stdout",
     "output_type": "stream",
     "text": [
      "-5.000~0.000    199126         10.589%\n",
      "0.000~5.000   1588528         84.475%\n",
      "5.000~10.000    429185         22.823%\n",
      "10.000~15.000     57393          3.052%\n",
      "15.000~20.000     15039          0.800%\n",
      "20.000~25.000      4916          0.261%\n",
      "25.000~30.000      1488          0.079%\n",
      "30.000~35.000       610          0.032%\n",
      "35.000~40.000       219          0.012%\n",
      "40.000~45.000        84          0.004%\n",
      "45.000~50.000        25          0.001%\n",
      "50.000~55.000        13          0.001%\n",
      "55.000~60.000         6          0.000%\n",
      "60.000~65.000         3          0.000%\n",
      "65.000~70.000         5          0.000%\n",
      "70.000~75.000         5          0.000%\n",
      "75.000~80.000         2          0.000%\n",
      "80.000~85.000         1          0.000%\n",
      "85.000~90.000         0          0.000%\n",
      "90.000~95.000         0          0.000%\n",
      "95.000~100.000         1          0.000%\n",
      "100.000~105.000         2          0.000%\n",
      "105.000~110.000         2          0.000%\n",
      "110.000~115.000         2          0.000%\n",
      "115.000~120.000         0          0.000%\n",
      "120.000~125.000         4          0.000%\n",
      "125.000~130.000         0          0.000%\n",
      "130.000~135.000         0          0.000%\n",
      "135.000~140.000         0          0.000%\n",
      "140.000~145.000         0          0.000%\n",
      "145.000~150.000         0          0.000%\n",
      "150.000~155.000         0          0.000%\n",
      "155.000~160.000         0          0.000%\n",
      "160.000~165.000         0          0.000%\n",
      "165.000~170.000         0          0.000%\n",
      "170.000~175.000         0          0.000%\n",
      "175.000~180.000         0          0.000%\n",
      "180.000~185.000         0          0.000%\n",
      "185.000~190.000         0          0.000%\n",
      "190.000~195.000         1          0.000%\n",
      "195.000~200.000         1          0.000%\n",
      "200.000~205.000         0          0.000%\n",
      "205.000~210.000         0          0.000%\n",
      "210.000~215.000         0          0.000%\n",
      "215.000~220.000         0          0.000%\n",
      "220.000~225.000         0          0.000%\n",
      "225.000~230.000         0          0.000%\n",
      "230.000~235.000         0          0.000%\n",
      "235.000~240.000         0          0.000%\n",
      "240.000~245.000         0          0.000%\n",
      "245.000~250.000         0          0.000%\n",
      "250.000~255.000         0          0.000%\n",
      "255.000~260.000         1          0.000%\n",
      "260.000~265.000         1          0.000%\n",
      "265.000~270.000         0          0.000%\n",
      "270.000~275.000         0          0.000%\n",
      "275.000~280.000         1          0.000%\n",
      "280.000~285.000         1          0.000%\n",
      "285.000~290.000         0          0.000%\n",
      "290.000~295.000         0          0.000%\n",
      "295.000~300.000         0          0.000%\n",
      "300.000~305.000         0          0.000%\n",
      "305.000~310.000         0          0.000%\n",
      "310.000~315.000         0          0.000%\n",
      "315.000~320.000         0          0.000%\n",
      "320.000~325.000         0          0.000%\n",
      "325.000~330.000         1          0.000%\n"
     ]
    }
   ],
   "source": [
    "def interval_statistics(data, intervals):\n",
    "    if len(data) == 0:\n",
    "        return\n",
    "    for num in data:\n",
    "        for interval in intervals:\n",
    "            lr = tuple(interval.split('~'))\n",
    "            left, right = float(lr[0]), float(lr[1])\n",
    "            if left <= num <= right:\n",
    "                intervals[interval] += 1\n",
    "    for key, value in intervals.items():\n",
    "        print(\"%10s\" % key, end='')  # 借助 end=''可以不换行with end=''can not wrap\n",
    "        print(\"%10s\" % value, end='')  # \"%10s\" align right\n",
    "        print('%16s' % '{:.3%}'.format(value * 1.0 / len(data)))\n",
    "\n",
    "\n",
    "if __name__ == '__main__' :\n",
    "    start = -5  # left end of interval\n",
    "    number_of_interval = 67  #number of intervals 329+5/5=66.8\n",
    "    length = 5 # length of intervals\n",
    "    intervals = {'{:.3f}~{:.3f}'.format(length*x+start, length*(x+1)+start): 0 for x in range(number_of_interval)}  #generate intervals\n",
    "    # print(intervals)\n",
    "    data = age\n",
    "    # print(data)\n",
    "    interval_statistics(data, intervals)"
   ]
  },
  {
   "cell_type": "code",
   "execution_count": 285,
   "metadata": {},
   "outputs": [
    {
     "data": {
      "image/png": "[encoded data removed]",
      "text/plain": [
       "<Figure size 432x288 with 1 Axes>"
      ]
     },
     "metadata": {},
     "output_type": "display_data"
    }
   ],
   "source": [
    "import matplotlib as mpt\n",
    "age.plot.hist(grid=True, bins=100, rwidth=9,\n",
    "                   color='#607c8e')\n",
    "#plt.title('age')\n",
    "plt.xlabel('age')\n",
    "plt.ylabel('Counts')\n",
    "plt.grid(axis='y', alpha=0.75)"
   ]
  },
  {
   "cell_type": "code",
   "execution_count": 250,
   "metadata": {},
   "outputs": [
    {
     "name": "stderr",
     "output_type": "stream",
     "text": [
      "/Users/karasu/opt/anaconda3/lib/python3.8/site-packages/seaborn/distributions.py:2551: FutureWarning: `distplot` is a deprecated function and will be removed in a future version. Please adapt your code to use either `displot` (a figure-level function with similar flexibility) or `histplot` (an axes-level function for histograms).\n",
      "  warnings.warn(msg, FutureWarning)\n"
     ]
    },
    {
     "data": {
      "text/plain": [
       "<AxesSubplot:xlabel='age', ylabel='Density'>"
      ]
     },
     "execution_count": 250,
     "metadata": {},
     "output_type": "execute_result"
    },
    {
     "data": {
      "image/png": "[encoded data removed]",
      "text/plain": [
       "<Figure size 432x288 with 1 Axes>"
      ]
     },
     "metadata": {},
     "output_type": "display_data"
    }
   ],
   "source": [
    "import seaborn as sns\n",
    "\n",
    "sns.set_style('darkgrid')\n",
    "sns.distplot(age)"
   ]
  },
  {
   "cell_type": "code",
   "execution_count": 252,
   "metadata": {},
   "outputs": [
    {
     "name": "stderr",
     "output_type": "stream",
     "text": [
      "/Users/karasu/opt/anaconda3/lib/python3.8/site-packages/seaborn/distributions.py:2551: FutureWarning: `distplot` is a deprecated function and will be removed in a future version. Please adapt your code to use either `displot` (a figure-level function with similar flexibility) or `histplot` (an axes-level function for histograms).\n",
      "  warnings.warn(msg, FutureWarning)\n"
     ]
    },
    {
     "data": {
      "text/plain": [
       "<AxesSubplot:xlabel='age'>"
      ]
     },
     "execution_count": 252,
     "metadata": {},
     "output_type": "execute_result"
    },
    {
     "data": {
      "image/png": "[encoded data removed]",
      "text/plain": [
       "<Figure size 432x288 with 1 Axes>"
      ]
     },
     "metadata": {},
     "output_type": "display_data"
    }
   ],
   "source": [
    "from scipy import stats\n",
    "sns.distplot(age, fit=stats.laplace, kde=False)"
   ]
  },
  {
   "cell_type": "code",
   "execution_count": 122,
   "metadata": {},
   "outputs": [
    {
     "data": {
      "text/plain": [
       "0    7.0\n",
       "1    8.0\n",
       "2    7.0\n",
       "3    8.0\n",
       "4    8.0\n",
       "Name: age, dtype: float64"
      ]
     },
     "execution_count": 122,
     "metadata": {},
     "output_type": "execute_result"
    }
   ],
   "source": [
    "age_clear = age[children.age<55.0]\n",
    "age_clear.head()"
   ]
  },
  {
   "cell_type": "code",
   "execution_count": 280,
   "metadata": {},
   "outputs": [
    {
     "data": {
      "image/png": "[encoded data removed]",
      "text/plain": [
       "<Figure size 432x288 with 1 Axes>"
      ]
     },
     "metadata": {},
     "output_type": "display_data"
    }
   ],
   "source": [
    "import matplotlib as mpt\n",
    "age_clear.plot.hist(grid=True, bins=67,density=False, rwidth=0.9,\n",
    "                   color='#607c8e')\n",
    "#plt.title('age')density=True\n",
    "plt.xlabel('age_clear')\n",
    "plt.ylabel('Counts')\n",
    "plt.grid(axis='y', alpha=0.75)"
   ]
  },
  {
   "cell_type": "code",
   "execution_count": 303,
   "metadata": {},
   "outputs": [
    {
     "data": {
      "text/plain": [
       "0    7.0\n",
       "1    8.0\n",
       "2    7.0\n",
       "3    8.0\n",
       "4    8.0\n",
       "Name: age, dtype: float64"
      ]
     },
     "execution_count": 303,
     "metadata": {},
     "output_type": "execute_result"
    }
   ],
   "source": [
    "age_clear2 = age[children.age<15]\n",
    "age_clear2.head()"
   ]
  },
  {
   "cell_type": "code",
   "execution_count": 310,
   "metadata": {
    "scrolled": true
   },
   "outputs": [
    {
     "data": {
      "image/png": "[encoded data removed]",
      "text/plain": [
       "<Figure size 432x288 with 1 Axes>"
      ]
     },
     "metadata": {},
     "output_type": "display_data"
    }
   ],
   "source": [
    "age_clear2.plot.hist(grid=True, bins=20,density=False, rwidth=1,\n",
    "                   color='#607c8e')\n",
    "#plt.title('age')density=True\n",
    "plt.xlabel('age_clear2')\n",
    "plt.ylabel('Counts')\n",
    "plt.grid(axis='y', alpha=0.5)"
   ]
  },
  {
   "cell_type": "code",
   "execution_count": 60,
   "metadata": {},
   "outputs": [],
   "source": [
    "generation=users['generation_id']\n",
    "prefecture=users['prefecture_id']"
   ]
  },
  {
   "cell_type": "code",
   "execution_count": 58,
   "metadata": {},
   "outputs": [
    {
     "name": "stdout",
     "output_type": "stream",
     "text": [
      "4.0    144705\n",
      "3.0    107773\n",
      "5.0     75788\n",
      "2.0     39080\n",
      "6.0     28426\n",
      "1.0     13152\n",
      "7.0       568\n",
      "Name: generation_id, dtype: int64\n"
     ]
    },
    {
     "data": {
      "image/png": "[encoded data removed]",
      "text/plain": [
       "<Figure size 432x288 with 1 Axes>"
      ]
     },
     "metadata": {
      "needs_background": "light"
     },
     "output_type": "display_data"
    }
   ],
   "source": [
    "frequency_gen=pd.value_counts(generation)\n",
    "print(frequency_gen)\n",
    "generation.plot.hist(grid=True, bins=7,density=False, rwidth=1.5,\n",
    "                   color='#607c8e')\n",
    "#plt.title('generation') or check density=True\n",
    "plt.xlabel('generation of users')\n",
    "plt.ylabel('Counts')\n",
    "plt.grid(axis='y', alpha=0.5)\n",
    "#generation.describe()  count=409492.000000"
   ]
  },
  {
   "cell_type": "code",
   "execution_count": 121,
   "metadata": {},
   "outputs": [
    {
     "name": "stdout",
     "output_type": "stream",
     "text": [
      "13.0    104020\n",
      "27.0     73469\n",
      "14.0     68753\n",
      "23.0     65069\n",
      "11.0     58259\n",
      "12.0     48067\n",
      "1.0      44744\n",
      "40.0     44251\n",
      "28.0     42074\n",
      "22.0     25174\n",
      "8.0      22270\n",
      "34.0     21930\n",
      "4.0      20145\n",
      "26.0     18004\n",
      "47.0     15998\n",
      "10.0     15265\n",
      "9.0      15215\n",
      "7.0      15022\n",
      "33.0     14399\n",
      "15.0     14394\n",
      "43.0     14176\n",
      "21.0     13803\n",
      "20.0     13657\n",
      "24.0     12585\n",
      "46.0     12533\n",
      "25.0     11254\n",
      "38.0      9810\n",
      "42.0      9636\n",
      "44.0      9616\n",
      "29.0      9553\n",
      "45.0      8963\n",
      "2.0       8725\n",
      "35.0      8417\n",
      "37.0      8029\n",
      "3.0       7925\n",
      "17.0      7557\n",
      "6.0       7161\n",
      "16.0      6347\n",
      "41.0      6044\n",
      "19.0      5976\n",
      "30.0      5951\n",
      "18.0      5381\n",
      "5.0       5165\n",
      "36.0      5015\n",
      "39.0      4449\n",
      "32.0      4010\n",
      "31.0      3896\n",
      "Name: prefecture_id, dtype: int64\n"
     ]
    },
    {
     "data": {
      "image/png": "[encoded data removed]",
      "text/plain": [
       "<Figure size 432x288 with 1 Axes>"
      ]
     },
     "metadata": {
      "needs_background": "light"
     },
     "output_type": "display_data"
    }
   ],
   "source": [
    "frequency_pre=pd.value_counts(prefecture)\n",
    "print(frequency_pre)\n",
    "prefecture.plot.hist(grid=True, bins=40,density=False, rwidth=1.5,\n",
    "                   color='#607c8e')\n",
    "#plt.title('prefecture') or check density=True\n",
    "plt.xlabel('prefecture of users')\n",
    "plt.ylabel('Counts')\n",
    "plt.grid(axis='y', alpha=0.5)\n",
    "#prefecture.count()=972156"
   ]
  },
  {
   "cell_type": "markdown",
   "metadata": {},
   "source": [
    "##      13-東京都　27-大坂府　14-神奈川    23-愛知県　11-埼玉県\n",
    "##      31-鳥取県    32島根県     39-高知県    36-徳島県     5-秋田県\n",
    "###   最も多い5つの地区と最も少ない5つの地区 Is it related to the size of the population in these areas?"
   ]
  },
  {
   "cell_type": "code",
   "execution_count": 46,
   "metadata": {},
   "outputs": [
    {
     "data": {
      "text/plain": [
       "1508406   -5.0\n",
       "Name: age, dtype: float64"
      ]
     },
     "execution_count": 46,
     "metadata": {},
     "output_type": "execute_result"
    }
   ],
   "source": [
    "age_clear3 = age[children.age<-4.0]\n",
    "age_clear3.head(100)"
   ]
  },
  {
   "cell_type": "code",
   "execution_count": 47,
   "metadata": {},
   "outputs": [
    {
     "data": {
      "text/plain": [
       "26167      0.0\n",
       "55322      0.0\n",
       "84055      0.0\n",
       "96519      0.0\n",
       "99231      0.0\n",
       "          ... \n",
       "1880456    0.0\n",
       "1880458    0.0\n",
       "1880459   -1.0\n",
       "1880460   -1.0\n",
       "1880461    0.0\n",
       "Name: age, Length: 199126, dtype: float64"
      ]
     },
     "execution_count": 47,
     "metadata": {},
     "output_type": "execute_result"
    }
   ],
   "source": [
    "age_clear3 = age[children.age<1.0]\n",
    "age_clear3.head(1000000)"
   ]
  },
  {
   "cell_type": "code",
   "execution_count": 90,
   "metadata": {},
   "outputs": [
    {
     "name": "stdout",
     "output_type": "stream",
     "text": [
      "        id  user_id  category_id  \\\n",
      "0  6439861  1377081           11   \n",
      "1  6439862  1189091           11   \n",
      "2  6439864  1718860           11   \n",
      "3  6439865  1675033           11   \n",
      "4  6439866  1221269            3   \n",
      "\n",
      "                                             content              created  \n",
      "0  3歳の子供がまだ起きてます😫 夫と二人でカウントダウン予定が寝かしつけー。 幼児で、こんな夜...  2019-01-01 00:00:14  \n",
      "1                              あけましておめでとうございます┏○ﾍﾟｺｯ  2019-01-01 00:00:16  \n",
      "2                      笑ってはいけない☞無人島🏝📺に切り替えたら🦈って···😵💦  2019-01-01 00:00:47  \n",
      "3                                 皆さま今年も宜しくお願いします😍❤️  2019-01-01 00:00:55  \n",
      "4         明けましておめでとうございます！ 私は授乳中、旦那は別室でビール飲みながらテレビ！！  2019-01-01 00:01:10  \n"
     ]
    }
   ],
   "source": [
    "tsv_file='/Users/karasu/Downloads/提供データ/questions.tsv'\n",
    "csv_table=pd.read_table(tsv_file,sep='\\t')\n",
    "csv_table.to_csv('questions.csv',index=False)\n",
    "questions = pd.read_csv('questions.csv')\n",
    "print(questions.head(5))"
   ]
  },
  {
   "cell_type": "code",
   "execution_count": null,
   "metadata": {},
   "outputs": [],
   "source": [
    "#how to decide a question is hard to answar?\n"
   ]
  },
  {
   "cell_type": "markdown",
   "metadata": {},
   "source": [
    "###  id:質問ID    user_id:質問したユーザーID    category_id:質問のカテゴリID   content:質問本文    created:質問日時"
   ]
  },
  {
   "cell_type": "code",
   "execution_count": 103,
   "metadata": {},
   "outputs": [],
   "source": [
    "category=questions['category_id']"
   ]
  },
  {
   "cell_type": "code",
   "execution_count": 118,
   "metadata": {},
   "outputs": [
    {
     "name": "stdout",
     "output_type": "stream",
     "text": [
      "3     1874721\n",
      "1      768923\n",
      "11     529749\n",
      "99     362606\n",
      "5      328195\n",
      "14     311963\n",
      "7      209871\n",
      "6      184784\n",
      "9      182860\n",
      "15     140269\n",
      "12     135019\n",
      "13     133031\n",
      "16     109876\n",
      "4      101349\n",
      "18      78370\n",
      "Name: category_id, dtype: int64\n"
     ]
    },
    {
     "data": {
      "image/png": "[encoded data removed]",
      "text/plain": [
       "<Figure size 432x288 with 1 Axes>"
      ]
     },
     "metadata": {
      "needs_background": "light"
     },
     "output_type": "display_data"
    }
   ],
   "source": [
    "frequency_cate=pd.value_counts(category)\n",
    "print(frequency_cate)\n",
    "category.plot.hist(grid=True, bins=50,density=False, rwidth=0.9,\n",
    "                   color='#607c8e')\n",
    "#plt.title('generation') or check density=True\n",
    "plt.xlabel('category of questions')\n",
    "#plt.ylabel('Counts')\n",
    "plt.grid(axis='y', alpha=0.75)"
   ]
  },
  {
   "cell_type": "code",
   "execution_count": 113,
   "metadata": {},
   "outputs": [
    {
     "name": "stdout",
     "output_type": "stream",
     "text": [
      "[(3, 1874721), (1, 768923), (11, 529749), (99, 362606), (5, 328195), (14, 311963), (7, 209871), (6, 184784), (9, 182860), (15, 140269), (12, 135019), (13, 133031), (16, 109876), (4, 101349), (18, 78370)]\n"
     ]
    }
   ],
   "source": [
    "from collections import Counter\n",
    "\n",
    "fre=Counter(category)\n",
    "fre_category = sorted(fre.items(), key=lambda x: x[1], reverse=True)\n",
    "print(fre_category)"
   ]
  },
  {
   "cell_type": "markdown",
   "metadata": {},
   "source": [
    "# Three level:\n",
    "## level 1:\n",
    "### The most concerned question is 3, which is 子育て・グッズ Parenting / Goods （圧倒的な数の質問！）\n",
    "### then 1:妊娠・出産Pregnancy / childbirth     #then 11: 雑談・つぶやきChat / Tweet\n",
    "## level 2:\n",
    "### 99:その他の疑問， 5:ココロ・悩み ，14:家族・旦那 Has a close number of questions\n",
    "## level 3:\n",
    "### Remaining category: 7家事・料理,6妊活Pregnancy,9お金・保険,15お出かけgo out?,12お仕事,13ファッション・コスメ,16産婦人科・小児科,4サプリSupplement・健康,18住まい"
   ]
  },
  {
   "cell_type": "markdown",
   "metadata": {},
   "source": [
    "# next: 検索(search.tsv)\n",
    "### To analyze which problems mothers are more concerned about. （my idea: first use space to separate, exp.生後4ヶ月 授乳回数) \\\\ "
   ]
  },
  {
   "cell_type": "markdown",
   "metadata": {},
   "source": [
    "# MeCab: Yet Another Part-of-Speech and Morphological Analyzer \n",
    "### https://pypi.org/project/mecab-python3/"
   ]
  },
  {
   "cell_type": "code",
   "execution_count": 132,
   "metadata": {},
   "outputs": [
    {
     "name": "stdout",
     "output_type": "stream",
     "text": [
      "Collecting mecab-python3\n",
      "  Downloading mecab_python3-1.0.4-cp39-cp39-macosx_10_14_x86_64.whl (281 kB)\n",
      "\u001b[K     |████████████████████████████████| 281 kB 3.1 MB/s eta 0:00:01\n",
      "\u001b[?25hInstalling collected packages: mecab-python3\n",
      "Successfully installed mecab-python3-1.0.4\n",
      "\u001b[33mWARNING: You are using pip version 20.2.3; however, version 21.3.1 is available.\n",
      "You should consider upgrading via the '/Library/Frameworks/Python.framework/Versions/3.9/bin/python3.9 -m pip install --upgrade pip' command.\u001b[0m\n"
     ]
    }
   ],
   "source": [
    "! pip3 install mecab-python3"
   ]
  },
  {
   "cell_type": "code",
   "execution_count": 135,
   "metadata": {},
   "outputs": [
    {
     "name": "stdout",
     "output_type": "stream",
     "text": [
      "Collecting pip\n",
      "  Downloading pip-21.3.1-py3-none-any.whl (1.7 MB)\n",
      "\u001b[K     |████████████████████████████████| 1.7 MB 3.0 MB/s eta 0:00:01\n",
      "\u001b[?25hInstalling collected packages: pip\n",
      "  Attempting uninstall: pip\n",
      "    Found existing installation: pip 20.2.3\n",
      "    Uninstalling pip-20.2.3:\n",
      "      Successfully uninstalled pip-20.2.3\n",
      "Successfully installed pip-21.3.1\n"
     ]
    }
   ],
   "source": [
    "! pip3 install --upgrade pip"
   ]
  },
  {
   "cell_type": "code",
   "execution_count": 1,
   "metadata": {},
   "outputs": [
    {
     "name": "stdout",
     "output_type": "stream",
     "text": [
      "Requirement already satisfied: mecab-python3 in /Library/Frameworks/Python.framework/Versions/3.9/lib/python3.9/site-packages (1.0.4)\r\n"
     ]
    }
   ],
   "source": [
    "! pip3 install mecab-python3"
   ]
  },
  {
   "cell_type": "code",
   "execution_count": 144,
   "metadata": {},
   "outputs": [
    {
     "name": "stdout",
     "output_type": "stream",
     "text": [
      "Requirement already satisfied: mecab-python3 in /Library/Frameworks/Python.framework/Versions/3.9/lib/python3.9/site-packages (1.0.4)\r\n"
     ]
    }
   ],
   "source": [
    "! pip install --no-binary :all: mecab-python3"
   ]
  },
  {
   "cell_type": "code",
   "execution_count": null,
   "metadata": {},
   "outputs": [],
   "source": []
  }
 ],
 "metadata": {
  "kernelspec": {
   "display_name": "Python 3",
   "language": "python",
   "name": "python3"
  },
  "language_info": {
   "codemirror_mode": {
    "name": "ipython",
    "version": 3
   },
   "file_extension": ".py",
   "mimetype": "text/x-python",
   "name": "python",
   "nbconvert_exporter": "python",
   "pygments_lexer": "ipython3",
   "version": "3.9.1"
  }
 },
 "nbformat": 4,
 "nbformat_minor": 4
}
