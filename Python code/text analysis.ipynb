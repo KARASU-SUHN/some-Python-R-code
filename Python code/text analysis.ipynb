{
 "cells": [
  {
   "cell_type": "code",
   "execution_count": 1,
   "metadata": {
    "scrolled": true
   },
   "outputs": [
    {
     "name": "stdout",
     "output_type": "stream",
     "text": [
      "Collecting nagisa\n",
      "  Using cached nagisa-0.2.7-cp39-cp39-macosx_10_9_x86_64.whl\n",
      "Requirement already satisfied: six in ./opt/anaconda3/envs/py39t/lib/python3.9/site-packages (from nagisa) (1.15.0)\n",
      "Requirement already satisfied: numpy in ./opt/anaconda3/envs/py39t/lib/python3.9/site-packages (from nagisa) (1.19.2)\n",
      "Collecting DyNet\n",
      "  Using cached dyNET-2.1.2.tar.gz (509 kB)\n",
      "  Installing build dependencies ... \u001b[?25ldone\n",
      "\u001b[?25h  Getting requirements to build wheel ... \u001b[?25ldone\n",
      "\u001b[?25h    Preparing wheel metadata ... \u001b[?25ldone\n",
      "\u001b[?25hCollecting cython\n",
      "  Using cached Cython-0.29.24-cp39-cp39-macosx_10_9_x86_64.whl (1.9 MB)\n",
      "Building wheels for collected packages: DyNet\n",
      "  Building wheel for DyNet (PEP 517) ... \u001b[?25ldone\n",
      "\u001b[?25h  Created wheel for DyNet: filename=dyNET-2.1.2-cp39-cp39-macosx_11_0_x86_64.whl size=1724052 sha256=f904c33fcfa71e4590fa45a764a582897b0e56cd2a22f45c3cf0dc9ba5b0c4e0\n",
      "  Stored in directory: /Users/karasu/Library/Caches/pip/wheels/2b/3d/dc/0e4f4a8d3759e8401e3d8437af9b4a7afd97ad6fe966a3d6d9\n",
      "Successfully built DyNet\n",
      "Installing collected packages: cython, DyNet, nagisa\n",
      "Successfully installed DyNet-2.1.2 cython-0.29.24 nagisa-0.2.7\n"
     ]
    }
   ],
   "source": [
    "!pip install nagisa"
   ]
  },
  {
   "cell_type": "markdown",
   "metadata": {},
   "source": [
    "### https://github.com/taishi-i/nagisa"
   ]
  },
  {
   "cell_type": "code",
   "execution_count": 3,
   "metadata": {
    "scrolled": false
   },
   "outputs": [
    {
     "name": "stdout",
     "output_type": "stream",
     "text": [
      "python/名詞 で/助詞 手軽/形状詞 に/助動詞 使える/動詞 ツール/名詞 です/助動詞\n"
     ]
    }
   ],
   "source": [
    "import nagisa\n",
    "text = 'pythonで手軽に使えるツールです'\n",
    "words = nagisa.tagging(text)\n",
    "print(words)"
   ]
  },
  {
   "cell_type": "code",
   "execution_count": 4,
   "metadata": {},
   "outputs": [
    {
     "name": "stdout",
     "output_type": "stream",
     "text": [
      "['python', 'で', '手軽', 'に', '使える', 'ツール', 'です']\n"
     ]
    }
   ],
   "source": [
    "print(words.words)"
   ]
  },
  {
   "cell_type": "code",
   "execution_count": 5,
   "metadata": {},
   "outputs": [
    {
     "name": "stdout",
     "output_type": "stream",
     "text": [
      "['名詞', '助詞', '形状詞', '助動詞', '動詞', '名詞', '助動詞']\n"
     ]
    }
   ],
   "source": [
    "print(words.postags)"
   ]
  },
  {
   "cell_type": "markdown",
   "metadata": {},
   "source": [
    "### 文字単位の双方向LSTMを採用しており、URLや顔文字に頑健"
   ]
  },
  {
   "cell_type": "code",
   "execution_count": 6,
   "metadata": {},
   "outputs": [
    {
     "name": "stdout",
     "output_type": "stream",
     "text": [
      "['ブログ', 'の', 'URL', 'は', 'https://upura.hatenablog.com/', 'です']\n"
     ]
    }
   ],
   "source": [
    "text = 'ブログのURLはhttps://upura.hatenablog.com/です'\n",
    "words = nagisa.tagging(text)\n",
    "print(words.words)"
   ]
  },
  {
   "cell_type": "code",
   "execution_count": 4,
   "metadata": {
    "scrolled": false
   },
   "outputs": [
    {
     "name": "stdout",
     "output_type": "stream",
     "text": [
      "    user_id       word           event_date\n",
      "0    678217         守口  2019-01-01 00:00:02\n",
      "1   1200334     帰省 ホテル  2019-01-01 00:00:04\n",
      "2   1200334     帰省 ホテル  2019-01-01 00:00:04\n",
      "3   1200334     帰省 ホテル  2019-01-01 00:00:05\n",
      "4   1200334     帰省 ホテル  2019-01-01 00:00:05\n",
      "..      ...        ...                  ...\n",
      "95  1854610    妊娠40週3日  2019-01-01 00:03:13\n",
      "96  1880605      生後1ヶ月  2019-01-01 00:03:15\n",
      "97  1776069      自分の時間  2019-01-01 00:03:15\n",
      "98   957311  妊娠初期 ストレス  2019-01-01 00:03:16\n",
      "99  1481545     妊娠37週目  2019-01-01 00:03:18\n",
      "\n",
      "[100 rows x 3 columns]\n"
     ]
    }
   ],
   "source": [
    "import pandas as pd\n",
    "tsv_file='/Users/karasu/Documents/Kyushu University/D2_1/DATA competition/提供データ/search_2019.tsv'\n",
    "csv_table=pd.read_table(tsv_file,sep='\\t')\n",
    "csv_table.to_csv('search_2019.csv',index=False)\n",
    "search_2019 = pd.read_csv('search_2019.csv')\n",
    "print(search_2019.head(100))"
   ]
  },
  {
   "cell_type": "code",
   "execution_count": 7,
   "metadata": {},
   "outputs": [],
   "source": [
    "# coding:utf-8\n",
    "\n",
    "f = open('/Users/karasu/Documents/Kyushu University/D2_1/DATA competition/提供データ/search_2019.txt')  # 打开txt文件\n",
    "line = f.readline()  # 以行的形式进行读取文件\n",
    "list1 = []\n",
    "while line:\n",
    "    a = line.split()\n",
    "    b = a[1:2]       # 这是选取需要读取的列\n",
    "    list1.append(b)  # 将其添加在列表之中\n",
    "    line = f.readline()\n",
    "f.close()\n",
    "\n",
    "path_out = '/Users/karasu/Documents/Kyushu University/D2_1/DATA competition/提供データ/test.txt'   # 新的txt文件\n",
    "t = ''\n",
    "with open(path_out, 'w+') as f_out:\n",
    "    for i in list1:\n",
    "        for j in range(len(list1[0])):\n",
    "            t = t + str(i[j])\n",
    "        f_out.write(t)\n",
    "        f_out.write('\\n')\n",
    "        t = ''"
   ]
  },
  {
   "cell_type": "code",
   "execution_count": 11,
   "metadata": {},
   "outputs": [],
   "source": [
    "f = open('/Users/karasu/Documents/Kyushu University/D2_1/DATA competition/提供データ/search_2020.txt')  # 打开txt文件\n",
    "line = f.readline()  # 以行的形式进行读取文件\n",
    "list1 = []\n",
    "while line:\n",
    "    a = line.split()\n",
    "    b = a[1:2]       # 这是选取需要读取的列\n",
    "    list1.append(b)  # 将其添加在列表之中\n",
    "    line = f.readline()\n",
    "f.close()\n",
    "\n",
    "path_out = '/Users/karasu/Documents/Kyushu University/D2_1/DATA competition/提供データ/word2020.txt'   # 新的txt文件\n",
    "t = ''\n",
    "with open(path_out, 'w+') as f_out:\n",
    "    for i in list1:\n",
    "        for j in range(len(list1[0])):\n",
    "            t = t + str(i[j])\n",
    "        f_out.write(t)\n",
    "        f_out.write('\\n')\n",
    "        t = ''"
   ]
  },
  {
   "cell_type": "code",
   "execution_count": 12,
   "metadata": {},
   "outputs": [],
   "source": [
    "f = open('/Users/karasu/Documents/Kyushu University/D2_1/DATA competition/提供データ/search_2021.txt')  # 打开txt文件\n",
    "line = f.readline()  # 以行的形式进行读取文件\n",
    "list1 = []\n",
    "while line:\n",
    "    a = line.split()\n",
    "    b = a[1:2]       # 这是选取需要读取的列\n",
    "    list1.append(b)  # 将其添加在列表之中\n",
    "    line = f.readline()\n",
    "f.close()\n",
    "\n",
    "path_out = '/Users/karasu/Documents/Kyushu University/D2_1/DATA competition/提供データ/word2021.txt'   # 新的txt文件\n",
    "t = ''\n",
    "with open(path_out, 'w+') as f_out:\n",
    "    for i in list1:\n",
    "        for j in range(len(list1[0])):\n",
    "            t = t + str(i[j])\n",
    "        f_out.write(t)\n",
    "        f_out.write('\\n')\n",
    "        t = ''"
   ]
  },
  {
   "cell_type": "code",
   "execution_count": 3,
   "metadata": {},
   "outputs": [],
   "source": [
    "word=search_2019['word']"
   ]
  },
  {
   "cell_type": "code",
   "execution_count": 11,
   "metadata": {},
   "outputs": [
    {
     "name": "stdout",
     "output_type": "stream",
     "text": [
      "0                  守口\n",
      "1              帰省 ホテル\n",
      "2              帰省 ホテル\n",
      "3              帰省 ホテル\n",
      "4              帰省 ホテル\n",
      "              ...    \n",
      "48544994         トミカ博\n",
      "48544995    夜間 断乳 やり方\n",
      "48544996     ミルク 飲まない\n",
      "48544997           乳首\n",
      "48544998       ピアス 誤飲\n",
      "Name: word, Length: 48544999, dtype: object\n"
     ]
    }
   ],
   "source": [
    "print(word)"
   ]
  },
  {
   "cell_type": "code",
   "execution_count": 13,
   "metadata": {},
   "outputs": [
    {
     "name": "stdout",
     "output_type": "stream",
     "text": [
      "Collecting nltk\n",
      "  Downloading nltk-3.6.5-py3-none-any.whl (1.5 MB)\n",
      "\u001b[K     |████████████████████████████████| 1.5 MB 3.4 MB/s eta 0:00:01\n",
      "\u001b[?25hRequirement already satisfied: joblib in ./opt/anaconda3/envs/py39t/lib/python3.9/site-packages (from nltk) (1.0.0)\n",
      "Collecting regex>=2021.8.3\n",
      "  Downloading regex-2021.11.10-cp39-cp39-macosx_10_9_x86_64.whl (288 kB)\n",
      "\u001b[K     |████████████████████████████████| 288 kB 26.2 MB/s eta 0:00:01\n",
      "\u001b[?25hCollecting click\n",
      "  Downloading click-8.0.3-py3-none-any.whl (97 kB)\n",
      "\u001b[K     |████████████████████████████████| 97 kB 19.0 MB/s eta 0:00:01\n",
      "\u001b[?25hCollecting tqdm\n",
      "  Using cached tqdm-4.62.3-py2.py3-none-any.whl (76 kB)\n",
      "Installing collected packages: tqdm, regex, click, nltk\n",
      "Successfully installed click-8.0.3 nltk-3.6.5 regex-2021.11.10 tqdm-4.62.3\n"
     ]
    }
   ],
   "source": [
    "!pip install nltk"
   ]
  },
  {
   "cell_type": "code",
   "execution_count": 19,
   "metadata": {},
   "outputs": [],
   "source": [
    "from nltk import FreqDist"
   ]
  },
  {
   "cell_type": "code",
   "execution_count": 6,
   "metadata": {},
   "outputs": [],
   "source": [
    "fdist1=FreqDist(word)"
   ]
  },
  {
   "cell_type": "code",
   "execution_count": 16,
   "metadata": {},
   "outputs": [
    {
     "name": "stdout",
     "output_type": "stream",
     "text": [
      "<FreqDist with 5507969 samples and 48544999 outcomes>\n"
     ]
    }
   ],
   "source": [
    "print(fdist1)"
   ]
  },
  {
   "cell_type": "code",
   "execution_count": 12,
   "metadata": {},
   "outputs": [],
   "source": [
    "voc=fdist1.keys() #Frequently sorted samples"
   ]
  },
  {
   "cell_type": "code",
   "execution_count": 13,
   "metadata": {
    "scrolled": true
   },
   "outputs": [],
   "source": [
    "#print(voc)"
   ]
  },
  {
   "cell_type": "code",
   "execution_count": 20,
   "metadata": {
    "scrolled": true
   },
   "outputs": [
    {
     "name": "stdout",
     "output_type": "stream",
     "text": [
      "['守口', '帰省 ホテル', '義母 きもい', 'おしゃぶり 寝かしつけ', 'ユニクロ カナダグース', '妊娠高血圧症候群', 'メルシーポット', '流産', '1歳3ヶ月', 'メルシーポット ギャン泣き ']\n"
     ]
    }
   ],
   "source": [
    "print(list(voc)[0:10])"
   ]
  },
  {
   "cell_type": "code",
   "execution_count": 35,
   "metadata": {
    "scrolled": true
   },
   "outputs": [
    {
     "name": "stdout",
     "output_type": "stream",
     "text": [
      "('生後2ヶ月', 289645)\n",
      "('生後1ヶ月', 282352)\n",
      "('生後3ヶ月', 270934)\n",
      "('生後4ヶ月', 245096)\n",
      "('生後5ヶ月', 208790)\n",
      "('生後6ヶ月', 193668)\n",
      "('生後7ヶ月', 183389)\n",
      "('生後8ヶ月', 172373)\n",
      "('生後9ヶ月', 166090)\n",
      "('生後10ヶ月', 142441)\n",
      "('生後0ヶ月', 125475)\n",
      "('義母', 117447)\n",
      "('生後11ヶ月', 109796)\n",
      "('1歳1ヶ月', 102612)\n",
      "('1歳0ヶ月', 101801)\n",
      "('1歳2ヶ月', 100726)\n",
      "('1歳3ヶ月', 93145)\n",
      "('妊娠37週', 85790)\n",
      "('1歳4ヶ月', 85638)\n",
      "('妊娠38週', 83840)\n"
     ]
    }
   ],
   "source": [
    "f = zip(fdist1.keys(),fdist1.values()) \n",
    "sortf = list(sorted(f,key=lambda s: s[1], reverse=True))\n",
    "for i in range(20): \n",
    "    print(sortf[i])"
   ]
  },
  {
   "cell_type": "code",
   "execution_count": 14,
   "metadata": {
    "scrolled": true
   },
   "outputs": [
    {
     "data": {
      "text/plain": [
       "['6ヶ月 発熱 鼻水',\n",
       " '1歳3ヶ月 出す',\n",
       " '義理 弟 お年玉',\n",
       " '1歳半 嫉妬',\n",
       " '結膜炎 7ヶ月',\n",
       " '凍結胚盤胞６日目  性別',\n",
       " '野崎クリニック 産後2週間検診',\n",
       " '創価学会とは何を信仰しているの',\n",
       " '横浜ベイクォーター 年始',\n",
       " 'bcg 消えない']"
      ]
     },
     "execution_count": 14,
     "metadata": {},
     "output_type": "execute_result"
    }
   ],
   "source": [
    "fdist2019 = FreqDist([len(w) for w in word])"
   ]
  },
  {
   "cell_type": "code",
   "execution_count": 37,
   "metadata": {
    "scrolled": true
   },
   "outputs": [
    {
     "data": {
      "text/plain": [
       "dict_items([(2, 3114691), (6, 6066582), (11, 1919779), (8, 4824463), (7, 5843565), (5, 9323132), (14, 530718), (9, 3464650), (3, 3714402), (4, 4201357), (10, 2679300), (12, 1322234), (1, 115572), (13, 787048), (15, 266010), (23, 2990), (16, 141830), (19, 26540), (20, 11410), (50, 234), (27, 12939), (36, 613), (17, 88087), (22, 4288), (18, 38649), (42, 422), (51, 266), (28, 1134), (25, 8410), (24, 1907), (26, 1918), (55, 242), (48, 262), (34, 741), (38, 520), (21, 6178), (29, 9604), (84, 50), (66, 106), (53, 253), (46, 340), (35, 727), (30, 937), (89, 55), (75, 55), (76, 80), (32, 753), (56, 195), (99, 40), (43, 320), (83, 48), (58, 172), (40, 455), (44, 354), (33, 697), (37, 571), (79, 65), (47, 285), (70, 84), (39, 464), (57, 165), (45, 330), (52, 286), (67, 106), (31, 865), (74, 86), (59, 178), (90, 38), (69, 99), (65, 132), (82, 55), (63, 148), (41, 433), (88, 40), (64, 112), (54, 216), (62, 142), (61, 134), (91, 37), (72, 66), (49, 293), (73, 88), (60, 160), (96, 54), (95, 54), (93, 49), (97, 32), (77, 96), (86, 47), (94, 46), (71, 97), (85, 59), (78, 67), (81, 59), (87, 51), (68, 105), (92, 53), (80, 60), (100, 35), (98, 33)])"
      ]
     },
     "execution_count": 37,
     "metadata": {},
     "output_type": "execute_result"
    }
   ],
   "source": [
    "fdist.items() # frequency of length of words 2019"
   ]
  },
  {
   "cell_type": "code",
   "execution_count": 38,
   "metadata": {},
   "outputs": [
    {
     "data": {
      "text/plain": [
       "5"
      ]
     },
     "execution_count": 38,
     "metadata": {},
     "output_type": "execute_result"
    }
   ],
   "source": [
    "fdist.max()  # The most word length"
   ]
  },
  {
   "cell_type": "code",
   "execution_count": 15,
   "metadata": {},
   "outputs": [
    {
     "data": {
      "text/plain": [
       "[('守口', 5012),\n",
       " ('帰省 ホテル', 14),\n",
       " ('義母 きもい', 18),\n",
       " ('おしゃぶり 寝かしつけ', 6942),\n",
       " ('ユニクロ カナダグース', 2),\n",
       " ('妊娠高血圧症候群', 5539),\n",
       " ('メルシーポット', 8414),\n",
       " ('流産', 23968),\n",
       " ('1歳3ヶ月', 93145),\n",
       " ('メルシーポット ギャン泣き ', 2),\n",
       " ('回転寿司 赤ちゃん', 315),\n",
       " ('ミルク 吐き戻し', 3952),\n",
       " ('6ヶ月 発熱 鼻水', 1),\n",
       " ('1歳3ヶ月 出す', 1),\n",
       " ('金沢市', 924),\n",
       " ('田県神社', 9),\n",
       " ('フォトフェイシャル', 133),\n",
       " ('宝くじ', 3015),\n",
       " ('お年玉 いくら', 458),\n",
       " ('鼻づまり', 7892),\n",
       " ('旦那 好きになれない', 42),\n",
       " ('ステップファミリー', 878),\n",
       " ('リンカル', 873),\n",
       " ('義理 弟 お年玉', 1),\n",
       " ('スタジオアリス', 14670),\n",
       " ('1歳5ヶ月', 68460),\n",
       " ('マリウス', 20),\n",
       " ('生後3ヶ月 ミルク 量', 6846),\n",
       " ('ブレンダー おすすめ', 2010),\n",
       " ('義母', 117447),\n",
       " ('授乳中 そば', 79),\n",
       " ('陣痛', 45156),\n",
       " ('生後8ヶ月', 172373),\n",
       " ('旦那 触られ', 6),\n",
       " ('梅田 ランチ', 329),\n",
       " ('大阪 子育て', 45),\n",
       " ('自分の時間', 538),\n",
       " ('生後1ヶ月', 282352),\n",
       " ('1歳半 嫉妬', 1),\n",
       " ('離乳食 後期 食器', 6),\n",
       " ('結膜炎 7ヶ月', 1),\n",
       " ('イデコ', 800),\n",
       " ('旦那', 39141),\n",
       " ('38週', 12050),\n",
       " ('生後2ヶ月', 289645),\n",
       " ('子供 セック', 2),\n",
       " ('旦那 クソ', 124),\n",
       " ('凍結胚盤胞６日目  性別', 1),\n",
       " ('主人', 1380),\n",
       " ('陣痛中 快便', 4),\n",
       " ('シフト 削られる', 4),\n",
       " ('怒る いつから', 68),\n",
       " ('釧路', 2185),\n",
       " ('高松市 げんき保育園', 70),\n",
       " ('VBAC', 4383),\n",
       " ('凍結胚盤胞  性別', 2),\n",
       " ('黄疸', 4035),\n",
       " ('布団から出る', 41),\n",
       " ('躾', 422),\n",
       " ('鐘つき', 2),\n",
       " ('胃腸風邪', 1135),\n",
       " ('新生児 寝ない', 18624),\n",
       " ('夜 胃', 11),\n",
       " ('前駆陣痛 痛くない', 129),\n",
       " ('お金減る 不安', 2),\n",
       " ('ジャニーズ', 784),\n",
       " ('生後3ヶ月 体重 増えない', 2129),\n",
       " ('あま市', 1289),\n",
       " ('自閉症', 32721),\n",
       " ('妊娠40週', 27805),\n",
       " ('携帯がバグる', 2),\n",
       " ('妊娠27週', 35580),\n",
       " ('1歳9ヶ月', 45373),\n",
       " ('妊娠40週3日', 1506),\n",
       " ('妊娠初期 ストレス', 286),\n",
       " ('妊娠37週目', 7053),\n",
       " ('二重', 20240),\n",
       " ('ビニール 誤飲', 1007),\n",
       " ('産後 ダイエット', 20572),\n",
       " ('スタジオマルシェ', 62),\n",
       " ('薬 副作用 頭痛', 5),\n",
       " ('生後4ヶ月', 245096),\n",
       " ('旦那 冷たくしてしまう', 12),\n",
       " ('妊娠37週目 陣痛', 23),\n",
       " ('産後 おりもの 黄色', 971),\n",
       " ('妊娠7週目 つわり なくなった', 2858),\n",
       " ('向き癖', 2096),\n",
       " ('生後11ヶ月', 109796),\n",
       " ('冷え性', 462),\n",
       " ('寝ない イライラ', 1673),\n",
       " ('実母 同居', 238),\n",
       " ('赤ちゃん お風呂 入らない', 22),\n",
       " ('妊娠39週', 68772),\n",
       " ('生後10ヶ月', 142441),\n",
       " ('セクシーゾーン', 17),\n",
       " ('離乳食 おやすみ', 920),\n",
       " (' 陣痛', 16),\n",
       " ('妊娠16週', 39492),\n",
       " ('4w5d ピンク', 4),\n",
       " ('つわり 10w', 17),\n",
       " ('1歳半 シャンプー', 61),\n",
       " ('野崎クリニック 産後2週間検診', 1),\n",
       " ('福袋', 4010),\n",
       " ('R先生', 23205),\n",
       " ('リウマチ', 1075),\n",
       " ('夜更かし 年末', 2),\n",
       " ('おしっこ 前漏れ', 9),\n",
       " ('病院で年越し', 3),\n",
       " ('発達障害', 33222),\n",
       " ('生後7ヶ月', 183389),\n",
       " ('紅白', 48),\n",
       " ('ヤンキー座り', 199),\n",
       " ('託児所', 2223),\n",
       " ('カロナール 授乳中', 1272),\n",
       " ('創価学会とは何を信仰しているの', 1),\n",
       " ('臨月 おっぱいマッサージ', 69),\n",
       " ('乳児湿疹 カサカサ', 80),\n",
       " ('横浜ベイクォーター 年始', 1),\n",
       " ('円靭帯痛', 1053),\n",
       " ('りつか 名前', 11),\n",
       " ('レシピ', 1060),\n",
       " ('高温期10', 49),\n",
       " ('bcg 消えない', 1),\n",
       " ('離乳食 レシピ', 694),\n",
       " ('帰省', 2160),\n",
       " ('野田', 168),\n",
       " ('夜泣きしない 朝まで寝る', 1),\n",
       " ('口唇口蓋裂', 9994),\n",
       " ('中山寺', 605),\n",
       " ('切迫流産 便秘痛のような腹痛', 8),\n",
       " ('長良医療センター', 245),\n",
       " ('流山', 4884),\n",
       " ('14週 お腹の張り', 34),\n",
       " ('妊娠中 喉痛い', 1559),\n",
       " ('多賀城', 912),\n",
       " ('元金', 9),\n",
       " ('RSウイルス', 17663),\n",
       " ('メルシーポット 頻度 ', 2),\n",
       " ('義母 嫌い', 17869),\n",
       " ('妊娠28週 重さ', 3),\n",
       " ('食事 吐く', 5),\n",
       " ('新生児 おっぱい 吸わない', 637),\n",
       " ('妊娠28週 体重', 79),\n",
       " ('妊娠9週目', 6230),\n",
       " ('ハイター 吸う', 1),\n",
       " ('中絶', 18649),\n",
       " ('泣かせれば', 3),\n",
       " ('副乳', 1566),\n",
       " ('読めない 名前', 39),\n",
       " ('ハイター ', 11),\n",
       " ('bcg 跡 ', 2),\n",
       " ('妊娠28週 大きさ', 17),\n",
       " ('産後の生理', 621),\n",
       " ('旦那 ハゲ', 119),\n",
       " ('大阪 和室 ホテル', 2),\n",
       " ('生後1ヶ月 乳児湿疹', 1574),\n",
       " ('粉ミルク', 2466),\n",
       " ('頭痛', 7158),\n",
       " ('イトーヨーカドー ', 8),\n",
       " ('警察官', 8314),\n",
       " ('抱っこ紐 アウター', 390),\n",
       " ('妊娠25週', 33791),\n",
       " ('1歳0ヶ月', 101801),\n",
       " ('義妹 嫌い', 695),\n",
       " ('生後4ヶ月 夢', 5),\n",
       " ('着床前 イミグラン', 3),\n",
       " ('胸整形', 1),\n",
       " ('33w子宮頸管', 3),\n",
       " ('子宮外妊娠', 11434),\n",
       " ('年越しそば', 125),\n",
       " ('風邪 妊婦', 3432),\n",
       " ('産後 不正出血', 1858),\n",
       " ('ハローベビーボーイ 男の子', 1),\n",
       " ('ターンレジェFIX', 358),\n",
       " ('出産祝い せこい', 1),\n",
       " ('冬の寝室', 4),\n",
       " ('品の木一の湯', 1),\n",
       " ('夜間 断乳 失敗', 561),\n",
       " ('夜間断乳', 6734),\n",
       " ('なないろ 無痛分娩', 13),\n",
       " ('便秘 吐き戻し', 151),\n",
       " ('相模原 幼稚園', 674),\n",
       " ('マザコン', 1196),\n",
       " ('年中から', 149),\n",
       " ('イライラ', 17806),\n",
       " ('生後6ヶ月', 193668),\n",
       " ('リンカル ', 59),\n",
       " ('年末年始 体重', 90),\n",
       " ('ヨコミネ式', 805),\n",
       " (' 保育園 通知', 3),\n",
       " ('台湾', 468),\n",
       " ('松阪', 935),\n",
       " ('うつ伏せ寝', 9807),\n",
       " ('離婚', 65063),\n",
       " ('粘膜栓', 1795),\n",
       " ('生後0ヶ月', 125475),\n",
       " ('生後3ヶ月', 270934),\n",
       " ('押さえつける', 2),\n",
       " ('生後9ヶ月', 166090),\n",
       " ('小山市  ケーキ', 1)]"
      ]
     },
     "execution_count": 15,
     "metadata": {},
     "output_type": "execute_result"
    }
   ],
   "source": [
    "list(fdist1.items())[:200] ##get elements as keys and values (word and frequency),"
   ]
  },
  {
   "cell_type": "code",
   "execution_count": 44,
   "metadata": {
    "scrolled": false
   },
   "outputs": [
    {
     "name": "stdout",
     "output_type": "stream",
     "text": [
      "[('生後2ヶ月', 289645), ('生後1ヶ月', 282352), ('生後3ヶ月', 270934), ('生後4ヶ月', 245096), ('生後5ヶ月', 208790), ('生後6ヶ月', 193668), ('生後7ヶ月', 183389), ('生後8ヶ月', 172373), ('生後9ヶ月', 166090), ('生後10ヶ月', 142441)]\n"
     ]
    }
   ],
   "source": [
    "freq=fdist1.most_common(10)\n",
    "print(freq)"
   ]
  },
  {
   "cell_type": "code",
   "execution_count": 64,
   "metadata": {},
   "outputs": [
    {
     "data": {
      "text/plain": [
       "[('生後2ヶ月', 289645),\n",
       " ('生後1ヶ月', 282352),\n",
       " ('生後3ヶ月', 270934),\n",
       " ('生後4ヶ月', 245096),\n",
       " ('生後5ヶ月', 208790),\n",
       " ('生後6ヶ月', 193668),\n",
       " ('生後7ヶ月', 183389),\n",
       " ('生後8ヶ月', 172373),\n",
       " ('生後9ヶ月', 166090),\n",
       " ('生後10ヶ月', 142441)]"
      ]
     },
     "execution_count": 64,
     "metadata": {},
     "output_type": "execute_result"
    }
   ],
   "source": [
    "import nltk\n",
    "import matplotlib.pyplot as plt\n",
    "from matplotlib import pyplot as plt\n",
    "#plt.use(\"WebAgg\")\n",
    "#freq.plot(10, cumulative=True)\n",
    "from matplotlib import rcParams\n",
    "rcParams[\"font.family\"] = \"STHeiti\"\n",
    "rcParams[\"font.size\"] = 8\n",
    "\n",
    "print(freq.plot())"
   ]
  },
  {
   "cell_type": "code",
   "execution_count": 39,
   "metadata": {},
   "outputs": [
    {
     "data": {
      "text/plain": [
       "115572"
      ]
     },
     "execution_count": 39,
     "metadata": {},
     "output_type": "execute_result"
    }
   ],
   "source": [
    "fdist[1]  # Number of words of length 1"
   ]
  },
  {
   "cell_type": "code",
   "execution_count": 40,
   "metadata": {},
   "outputs": [
    {
     "data": {
      "text/plain": [
       "0.0023807189696306305"
      ]
     },
     "execution_count": 40,
     "metadata": {},
     "output_type": "execute_result"
    }
   ],
   "source": [
    "fdist.freq(1) # Frequency of words of length 1"
   ]
  },
  {
   "cell_type": "code",
   "execution_count": 41,
   "metadata": {},
   "outputs": [
    {
     "name": "stdout",
     "output_type": "stream",
     "text": [
      "      5       6       7       8       4       3       9       2      10      11      12      13      14      15      16       1      17      18      19      27      20      29      25      21      22      23      26      24      28      30      31      32      34      35      33      36      37      38      39      40      41      42      44      46      45      43      49      52      47      51      48      53      55      50      54      56      59      58      57      60      63      62      61      65      64      66      67      68      69      71      77      73      74      70      76      78      72      79      80      85      81      89      75      82      96      95      92      87      84      93      83      86      94      99      88      90      91     100      98      97 \n",
      "9323132 6066582 5843565 4824463 4201357 3714402 3464650 3114691 2679300 1919779 1322234  787048  530718  266010  141830  115572   88087   38649   26540   12939   11410    9604    8410    6178    4288    2990    1918    1907    1134     937     865     753     741     727     697     613     571     520     464     455     433     422     354     340     330     320     293     286     285     266     262     253     242     234     216     195     178     172     165     160     148     142     134     132     112     106     106     105      99      97      96      88      86      84      80      67      66      65      60      59      59      55      55      55      54      54      53      51      50      49      48      47      46      40      40      38      37      35      33      32 \n"
     ]
    }
   ],
   "source": [
    "fdist.tabulate() # Generate distribution table"
   ]
  },
  {
   "cell_type": "code",
   "execution_count": 46,
   "metadata": {},
   "outputs": [
    {
     "name": "stdout",
     "output_type": "stream",
     "text": [
      "Collecting wordcloud\n",
      "  Downloading wordcloud-1.8.1.tar.gz (220 kB)\n",
      "\u001b[K     |████████████████████████████████| 220 kB 3.0 MB/s eta 0:00:01\n",
      "\u001b[?25hRequirement already satisfied: numpy>=1.6.1 in ./opt/anaconda3/envs/py39t/lib/python3.9/site-packages (from wordcloud) (1.19.2)\n",
      "Requirement already satisfied: pillow in ./opt/anaconda3/envs/py39t/lib/python3.9/site-packages (from wordcloud) (8.1.0)\n",
      "Requirement already satisfied: matplotlib in ./opt/anaconda3/envs/py39t/lib/python3.9/site-packages (from wordcloud) (3.3.2)\n",
      "Requirement already satisfied: kiwisolver>=1.0.1 in ./opt/anaconda3/envs/py39t/lib/python3.9/site-packages (from matplotlib->wordcloud) (1.3.0)\n",
      "Requirement already satisfied: certifi>=2020.06.20 in ./opt/anaconda3/envs/py39t/lib/python3.9/site-packages (from matplotlib->wordcloud) (2020.12.5)\n",
      "Requirement already satisfied: pyparsing!=2.0.4,!=2.1.2,!=2.1.6,>=2.0.3 in ./opt/anaconda3/envs/py39t/lib/python3.9/site-packages (from matplotlib->wordcloud) (2.4.7)\n",
      "Requirement already satisfied: python-dateutil>=2.1 in ./opt/anaconda3/envs/py39t/lib/python3.9/site-packages (from matplotlib->wordcloud) (2.8.1)\n",
      "Requirement already satisfied: cycler>=0.10 in ./opt/anaconda3/envs/py39t/lib/python3.9/site-packages (from matplotlib->wordcloud) (0.10.0)\n",
      "Requirement already satisfied: six in ./opt/anaconda3/envs/py39t/lib/python3.9/site-packages (from cycler>=0.10->matplotlib->wordcloud) (1.15.0)\n",
      "Building wheels for collected packages: wordcloud\n",
      "  Building wheel for wordcloud (setup.py) ... \u001b[?25ldone\n",
      "\u001b[?25h  Created wheel for wordcloud: filename=wordcloud-1.8.1-cp39-cp39-macosx_10_9_x86_64.whl size=154239 sha256=f3e6d28da1e5812ed77aa0b231a949735366b8a6c92692cc71496a87a79f7eef\n",
      "  Stored in directory: /Users/karasu/Library/Caches/pip/wheels/f9/7a/dd/06ef8b5dfe5483f6204133c08eeb16c287cc2c05e290ae2fc0\n",
      "Successfully built wordcloud\n",
      "Installing collected packages: wordcloud\n",
      "Successfully installed wordcloud-1.8.1\n"
     ]
    }
   ],
   "source": [
    "!pip install wordcloud"
   ]
  },
  {
   "cell_type": "code",
   "execution_count": 48,
   "metadata": {},
   "outputs": [],
   "source": [
    "class word_count:\n",
    "    def __init__(self,file_path,img_path,final_imgpath):\n",
    "        self.file_path = file_path\n",
    "        self.img_path = img_path\n",
    "        self.final_imgpath = final_imgpath"
   ]
  },
  {
   "cell_type": "code",
   "execution_count": 49,
   "metadata": {},
   "outputs": [],
   "source": [
    "  def word_cloud(self):\n",
    "        with open(word,mode='r',encoding='utf-8') as f:\n",
    "            text = ''\n",
    "            data = f.readlines()\n",
    "            for item in data:\n",
    "                text += item\n",
    "            print(text)"
   ]
  },
  {
   "cell_type": "markdown",
   "metadata": {},
   "source": [
    "https://github.com/taishi-i/nagisa-tutorial-pycon2019/blob/master/notebooks/word_cloud.ipynb"
   ]
  },
  {
   "cell_type": "code",
   "execution_count": 1,
   "metadata": {},
   "outputs": [
    {
     "name": "stdout",
     "output_type": "stream",
     "text": [
      "Cloning into 'WordCloud-Japanese'...\n",
      "remote: Enumerating objects: 115, done.\u001b[K\n",
      "remote: Total 115 (delta 0), reused 0 (delta 0), pack-reused 115\u001b[K\n",
      "Receiving objects: 100% (115/115), 724.51 KiB | 6.83 MiB/s, done.\n",
      "Resolving deltas: 100% (51/51), done.\n"
     ]
    }
   ],
   "source": [
    "! git clone https://github.com/aocattleya/WordCloud-Japanese.git"
   ]
  },
  {
   "cell_type": "code",
   "execution_count": 2,
   "metadata": {},
   "outputs": [],
   "source": [
    "# coding: utf-8\n",
    "from wordcloud import WordCloud\n",
    "import re\n",
    "from PIL import Image\n",
    "import numpy as np"
   ]
  },
  {
   "cell_type": "code",
   "execution_count": 8,
   "metadata": {},
   "outputs": [],
   "source": [
    "from wordcloud import WordCloud\n",
    "\n",
    "# 入力テキストの読み込み\n",
    "text = open('/Users/karasu/Documents/Kyushu University/D2_1/DATA competition/提供データ/test.txt').read()\n",
    "wordcloud = WordCloud(\n",
    "            font_path='/Library/Fonts/Arial Unicode.ttf', # フォントファイルの指定\n",
    "            background_color=\"whitesmoke\",\n",
    "            colormap=\"viridis\",\n",
    "            width=400, \n",
    "            height=200\n",
    "            ).generate(text)"
   ]
  },
  {
   "cell_type": "code",
   "execution_count": 10,
   "metadata": {},
   "outputs": [
    {
     "data": {
      "text/plain": [
       "<wordcloud.wordcloud.WordCloud at 0x7fc5e135c250>"
      ]
     },
     "execution_count": 10,
     "metadata": {},
     "output_type": "execute_result"
    }
   ],
   "source": [
    "wordcloud.to_file(\"/Users/karasu/Documents/Kyushu University/D2_1/DATA competition/提供データ/wordcloud2019.png\")"
   ]
  },
  {
   "cell_type": "code",
   "execution_count": 13,
   "metadata": {},
   "outputs": [],
   "source": [
    "# 入力テキストの読み込み\n",
    "text = open('/Users/karasu/Documents/Kyushu University/D2_1/DATA competition/提供データ/word2020.txt').read()\n",
    "wordcloud = WordCloud(\n",
    "            font_path='/Library/Fonts/Arial Unicode.ttf', # フォントファイルの指定\n",
    "            background_color=\"whitesmoke\",\n",
    "            colormap=\"viridis\",\n",
    "            width=400, \n",
    "            height=200\n",
    "            ).generate(text)"
   ]
  },
  {
   "cell_type": "code",
   "execution_count": 14,
   "metadata": {},
   "outputs": [
    {
     "data": {
      "text/plain": [
       "<wordcloud.wordcloud.WordCloud at 0x7fc2a2387c10>"
      ]
     },
     "execution_count": 14,
     "metadata": {},
     "output_type": "execute_result"
    }
   ],
   "source": [
    "wordcloud.to_file(\"/Users/karasu/Documents/Kyushu University/D2_1/DATA competition/提供データ/wordcloud2020.png\")"
   ]
  },
  {
   "cell_type": "code",
   "execution_count": 15,
   "metadata": {},
   "outputs": [],
   "source": [
    "text = open('/Users/karasu/Documents/Kyushu University/D2_1/DATA competition/提供データ/word2021.txt').read()\n",
    "wordcloud = WordCloud(\n",
    "            font_path='/Library/Fonts/Arial Unicode.ttf', # フォントファイルの指定\n",
    "            background_color=\"whitesmoke\",\n",
    "            colormap=\"viridis\",\n",
    "            width=400, \n",
    "            height=200\n",
    "            ).generate(text)"
   ]
  },
  {
   "cell_type": "code",
   "execution_count": 16,
   "metadata": {
    "scrolled": true
   },
   "outputs": [
    {
     "data": {
      "text/plain": [
       "<wordcloud.wordcloud.WordCloud at 0x7fc5e10380a0>"
      ]
     },
     "execution_count": 16,
     "metadata": {},
     "output_type": "execute_result"
    }
   ],
   "source": [
    "wordcloud.to_file(\"/Users/karasu/Documents/Kyushu University/D2_1/DATA competition/提供データ/wordcloud2021.png\")"
   ]
  },
  {
   "cell_type": "code",
   "execution_count": 6,
   "metadata": {},
   "outputs": [
    {
     "name": "stdout",
     "output_type": "stream",
     "text": [
      "[('生後2ヶ月', 289645), ('生後1ヶ月', 282352), ('生後3ヶ月', 270934), ('生後4ヶ月', 245096), ('生後5ヶ月', 208790), ('生後6ヶ月', 193668), ('生後7ヶ月', 183389), ('生後8ヶ月', 172373), ('生後9ヶ月', 166090), ('生後10ヶ月', 142441)]\n"
     ]
    }
   ],
   "source": [
    "from nltk import FreqDist\n",
    "import pandas as pd\n",
    "tsv_file='/Users/karasu/Documents/Kyushu University/D2_1/DATA competition/提供データ/search_2019.tsv'\n",
    "csv_table=pd.read_table(tsv_file,sep='\\t')\n",
    "csv_table.to_csv('search_2019.csv',index=False)\n",
    "search_2019 = pd.read_csv('search_2019.csv')\n",
    "\n",
    "\n",
    "word2019=search_2019['word']\n",
    "fdist1=FreqDist(word2019)\n",
    "freq1=fdist1.most_common(10)\n",
    "print(freq1)"
   ]
  },
  {
   "cell_type": "code",
   "execution_count": 26,
   "metadata": {},
   "outputs": [
    {
     "name": "stdout",
     "output_type": "stream",
     "text": [
      "[('生後1ヶ月', 243370), ('コロナ', 241662), ('生後2ヶ月', 230561), ('生後3ヶ月', 218775), ('生後4ヶ月', 194079), ('生後5ヶ月', 164153), ('生後6ヶ月', 149082), ('生後7ヶ月', 149061), ('生後8ヶ月', 140382), ('生後9ヶ月', 136481)]\n"
     ]
    }
   ],
   "source": [
    "tsv_file='/Users/karasu/Documents/Kyushu University/D2_1/DATA competition/提供データ/search_2020.tsv'\n",
    "csv_table=pd.read_table(tsv_file,sep='\\t')\n",
    "csv_table.to_csv('search_2020.csv',index=False)\n",
    "search_2020 = pd.read_csv('search_2020.csv')\n",
    "\n",
    "word2020=search_2020['word']\n",
    "fdist2=FreqDist(word2020)\n",
    "freq2=fdist2.most_common(10)\n",
    "print(freq2)"
   ]
  },
  {
   "cell_type": "code",
   "execution_count": 28,
   "metadata": {},
   "outputs": [
    {
     "name": "stdout",
     "output_type": "stream",
     "text": [
      "[('生後1ヶ月', 96094), ('生後2ヶ月', 86424), ('生後3ヶ月', 78909), ('生後4ヶ月', 71171), ('生後5ヶ月', 61696), ('生後6ヶ月', 57924), ('生後7ヶ月', 57919), ('生後8ヶ月', 53882), ('生後9ヶ月', 53127), ('コロナ', 51180)]\n"
     ]
    }
   ],
   "source": [
    "tsv_file='/Users/karasu/Documents/Kyushu University/D2_1/DATA competition/提供データ/search_2021.tsv'\n",
    "csv_table=pd.read_table(tsv_file,sep='\\t')\n",
    "csv_table.to_csv('search_2021.csv',index=False)\n",
    "search_2021 = pd.read_csv('search_2021.csv')\n",
    "\n",
    "word2021=search_2021['word']\n",
    "fdist3=FreqDist(word2021)\n",
    "freq3=fdist3.most_common(10)\n",
    "print(freq3)"
   ]
  },
  {
   "cell_type": "code",
   "execution_count": 24,
   "metadata": {},
   "outputs": [
    {
     "data": {
      "text/plain": [
       "(array([[1., 0., 0., ..., 0., 0., 0.],\n",
       "        [1., 0., 0., ..., 0., 0., 0.],\n",
       "        [1., 0., 0., ..., 0., 0., 0.],\n",
       "        ...,\n",
       "        [1., 0., 0., ..., 0., 0., 0.],\n",
       "        [1., 0., 0., ..., 0., 0., 0.],\n",
       "        [1., 0., 0., ..., 0., 0., 1.]]),\n",
       " array([0.00000e+00, 1.90000e-03, 3.80000e-03, ..., 1.89962e+01,\n",
       "        1.89981e+01, 1.90000e+01]),\n",
       " <a list of 10 BarContainer objects>)"
      ]
     },
     "execution_count": 24,
     "metadata": {},
     "output_type": "execute_result"
    },
    {
     "data": {
      "image/png": "[encoded data removed]",
      "text/plain": [
       "<Figure size 432x288 with 1 Axes>"
      ]
     },
     "metadata": {
      "needs_background": "light"
     },
     "output_type": "display_data"
    }
   ],
   "source": [
    "import numpy as np\n",
    "from matplotlib import pyplot as  plt\n",
    "freq1=fdist1.most_common(10)\n",
    "plt.hist(freq1, bins=10000, facecolor=\"blue\", edgecolor=\"black\", alpha=1.5,density=False, stacked=True,)"
   ]
  },
  {
   "cell_type": "code",
   "execution_count": null,
   "metadata": {},
   "outputs": [],
   "source": [
    "fdist1.hapaxes()[:10]"
   ]
  },
  {
   "cell_type": "code",
   "execution_count": 22,
   "metadata": {},
   "outputs": [
    {
     "data": {
      "text/plain": [
       "['10連休',\n",
       " '12週体重',\n",
       " '1歳 マウスピース',\n",
       " 'ミルク 水筒 熱湯消毒',\n",
       " '足立クリニック 小倉',\n",
       " '足立クリニック 小倉 里帰り',\n",
       " '暴力 エスカレート',\n",
       " '２歳の我が子を亡くしもうすぐで半年。 未だにまだ毎日居るかのように、見渡してしまったり タオル一枚見ても思い出す毎日。。',\n",
       " '寝かしつ 遅い',\n",
       " '発熱 妊娠超初期']"
      ]
     },
     "execution_count": 22,
     "metadata": {},
     "output_type": "execute_result"
    }
   ],
   "source": [
    "fdist2.hapaxes()[:10]"
   ]
  },
  {
   "cell_type": "code",
   "execution_count": 27,
   "metadata": {},
   "outputs": [
    {
     "data": {
      "text/plain": [
       "['裁縫作業台',\n",
       " '元日 夜ご飯',\n",
       " '年末 つわり',\n",
       " '子どもの前で泣いてしまった',\n",
       " '中絶 火葬届',\n",
       " '女 翠',\n",
       " 'エコー 女の子 19w',\n",
       " 'マンマ 後追い',\n",
       " '離婚 話し合いできない',\n",
       " '認定日 面談']"
      ]
     },
     "execution_count": 27,
     "metadata": {},
     "output_type": "execute_result"
    }
   ],
   "source": [
    "fdist3.hapaxes()[:10]"
   ]
  },
  {
   "cell_type": "code",
   "execution_count": 36,
   "metadata": {},
   "outputs": [],
   "source": [
    "#f = zip(fdist1.keys(),fdist1.values()) \n",
    "#sortf = list(sorted(f,key=lambda s: s[1], reverse=True))\n",
    "#for i in range(20): \n",
    "#    print(sortf[i])"
   ]
  },
  {
   "cell_type": "code",
   "execution_count": 39,
   "metadata": {},
   "outputs": [],
   "source": [
    "fdist2019 = FreqDist([len(w) for w in word2019])"
   ]
  },
  {
   "cell_type": "code",
   "execution_count": 40,
   "metadata": {},
   "outputs": [
    {
     "name": "stdout",
     "output_type": "stream",
     "text": [
      "      5       6       7       8       4       3       9       2      10      11      12      13      14      15      16       1      17      18      19      27      20      29      25      21      22      23      26      24      28      30      31      32      34      35      33      36      37      38      39      40      41      42      44      46      45      43      49      52      47      51      48      53      55      50      54      56      59      58      57      60      63      62      61      65      64      66      67      68      69      71      77      73      74      70      76      78      72      79      80      85      81      89      75      82      96      95      92      87      84      93      83      86      94      99      88      90      91     100      98      97 \n",
      "9323132 6066582 5843565 4824463 4201357 3714402 3464650 3114691 2679300 1919779 1322234  787048  530718  266010  141830  115572   88087   38649   26540   12939   11410    9604    8410    6178    4288    2990    1918    1907    1134     937     865     753     741     727     697     613     571     520     464     455     433     422     354     340     330     320     293     286     285     266     262     253     242     234     216     195     178     172     165     160     148     142     134     132     112     106     106     105      99      97      96      88      86      84      80      67      66      65      60      59      59      55      55      55      54      54      53      51      50      49      48      47      46      40      40      38      37      35      33      32 \n"
     ]
    }
   ],
   "source": [
    "fdist2019.tabulate()"
   ]
  },
  {
   "cell_type": "code",
   "execution_count": 35,
   "metadata": {},
   "outputs": [],
   "source": [
    "fdist2020 = FreqDist([len(w) for w in word2020])"
   ]
  },
  {
   "cell_type": "code",
   "execution_count": 38,
   "metadata": {},
   "outputs": [
    {
     "name": "stdout",
     "output_type": "stream",
     "text": [
      "      5       6       7       8       4       3       9       2      10      11      12      13      14      15      16       1      17      18      19      20      27      29      25      21      22      26      23      24      28      30      31      32      33      34      35      36      38      37      40      41      42      39      45      44      53      43      46      48      47      52      54      51      50      58      61      55      59      49      62      57      69      60      63      56      66      74      73      65      75      68      87      79      67      81      64      82      71      70      72      76      80      85      83      90      89      94      78      77      84      98      91      97      92      99     100      96      88      95      86      93 \n",
      "8981593 6511992 6180636 5145345 4197493 3907302 3714063 3162732 2962245 2076491 1420011  838233  569467  290894  134945  125809   81918   36337   23593    9253    7069    6047    5089    4877    3650    2268    2189    1430    1162     460     398     330     320     297     293     247     231     217     209     184     176     172     156     145     139     128     127     127     111     105     102     101      95      82      81      78      77      74      66      66      65      59      58      57      45      43      42      41      41      41      41      41      38      38      37      37      34      33      33      30      28      28      27      24      24      23      23      20      19      17      17      16      16      16      15      13      13      13      10       9 \n"
     ]
    }
   ],
   "source": [
    "fdist2020.tabulate() # Generate distribution table "
   ]
  },
  {
   "cell_type": "code",
   "execution_count": 39,
   "metadata": {},
   "outputs": [],
   "source": [
    "fdist2021 = FreqDist([len(w) for w in word2021])"
   ]
  },
  {
   "cell_type": "code",
   "execution_count": 40,
   "metadata": {
    "scrolled": true
   },
   "outputs": [
    {
     "name": "stdout",
     "output_type": "stream",
     "text": [
      "      5       6       7       8       4       9       3       2      10      11      12      13      14      15      16       1      17      18      19      20      21      25      27      22      26      23      29      24      28      30      34      31      32      35      36      33      38      37      42      40      43      39      44      41      45      47      48      52      53      49      46      51      55      56      54      50      60      59      57      73      62      58      61      72      67      69      66      71      88      70      76      74      78      80      68      65      63      75      82      64      86      95      84      94      79      85      89      98      97      93      92      77      81     100      83      90      96      91      87 \n",
      "4599127 3685171 3498216 3009249 2354242 2178069 2088179 1817898 1741068 1214348  815278  481190  332217  157071   74896   74641   45313   20162   13648    5297    3003    2901    2425    1990    1623    1192     894     792     283     226     177     171     161     160     160     159     138     126     111     100      81      77      76      72      62      58      54      50      49      47      46      37      33      32      31      31      30      29      29      27      26      24      23      22      21      21      20      19      18      17      16      16      16      15      15      15      15      14      13      12      12      12      11      10      10       9       9       9       9       8       8       8       8       7       7       7       6       3       2 \n"
     ]
    }
   ],
   "source": [
    "fdist2021.tabulate()"
   ]
  },
  {
   "cell_type": "code",
   "execution_count": 25,
   "metadata": {},
   "outputs": [
    {
     "name": "stdout",
     "output_type": "stream",
     "text": [
      "['産後 ダイエット', '離乳食 いつから', 'チャイルドシート', '離乳食 食べない']\n"
     ]
    }
   ],
   "source": [
    "V=set(word2019)\n",
    "print([w for w in V if len(w)==8 and fdist1[w]>20000])"
   ]
  },
  {
   "cell_type": "code",
   "execution_count": 27,
   "metadata": {},
   "outputs": [
    {
     "name": "stdout",
     "output_type": "stream",
     "text": [
      "['コロナ']\n"
     ]
    }
   ],
   "source": [
    "V=set(word2020)\n",
    "print([w for w in V if len(w)==3 and fdist2[w]>200000])"
   ]
  },
  {
   "cell_type": "code",
   "execution_count": 38,
   "metadata": {},
   "outputs": [
    {
     "name": "stdout",
     "output_type": "stream",
     "text": [
      "['大和屋さんから出ているすくすくチェアプラスかすくすくチェアスリムプラスのどちらにするかで悩んでいます！ どちらかを購入された方は決め手は何でしたか？宜しければ教えていただきたいです！', '昨日質問させてもらいました。 今日、仲良し中に子供が泣いたら一旦やめて欲しいことを伝えましたが、無理だと言われました。泣いたところで死ぬわけじゃないんだから、別に泣かせとけばいいと。', '2人目は何歳差で、ご出産されましたか？☺️  いいねで回答お願いします♪  何歳差で産んでも、大変なこと、楽だったりすることを 聞くのですが、、、みなさんの体験談お聞きしたいです☺︎']\n"
     ]
    }
   ],
   "source": [
    "V=set(word2021)\n",
    "print([w for w in V if len(w)==91 and fdist3[w]>=0])"
   ]
  },
  {
   "cell_type": "code",
   "execution_count": null,
   "metadata": {},
   "outputs": [],
   "source": []
  }
 ],
 "metadata": {
  "kernelspec": {
   "display_name": "Python 3",
   "language": "python",
   "name": "python3"
  },
  "language_info": {
   "codemirror_mode": {
    "name": "ipython",
    "version": 3
   },
   "file_extension": ".py",
   "mimetype": "text/x-python",
   "name": "python",
   "nbconvert_exporter": "python",
   "pygments_lexer": "ipython3",
   "version": "3.9.1"
  }
 },
 "nbformat": 4,
 "nbformat_minor": 4
}
